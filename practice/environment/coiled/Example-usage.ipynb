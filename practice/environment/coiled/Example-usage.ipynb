{
 "cells": [
  {
   "cell_type": "code",
   "execution_count": 1,
   "id": "cb6a551a-3f64-4a2e-aca5-637c2f92f505",
   "metadata": {},
   "outputs": [],
   "source": [
    "import coiled\n",
    "from dask.distributed import Client"
   ]
  },
  {
   "cell_type": "markdown",
   "id": "8c6fc58c-f2c0-4f6f-85d0-f5f832f2a66b",
   "metadata": {},
   "source": [
    "# Connect to the cluster\n",
    "\n",
    "If you run this notebook from the coiled jupyterlab cluster instance, use its name to connect to it (see [list here](https://cloud.coiled.io/clusters))"
   ]
  },
  {
   "cell_type": "code",
   "execution_count": 14,
   "id": "ae24755f-d018-475c-af4d-f9364cafb266",
   "metadata": {},
   "outputs": [
    {
     "data": {
      "application/vnd.jupyter.widget-view+json": {
       "model_id": "51b6ebbef0e9494a9c76e4f6febf5a20",
       "version_major": 2,
       "version_minor": 0
      },
      "text/plain": [
       "Output()"
      ]
     },
     "metadata": {},
     "output_type": "display_data"
    },
    {
     "data": {
      "text/html": [
       "<pre style=\"white-space:pre;overflow-x:auto;line-height:normal;font-family:Menlo,'DejaVu Sans Mono',consolas,'Courier New',monospace\"></pre>\n"
      ],
      "text/plain": []
     },
     "metadata": {},
     "output_type": "display_data"
    }
   ],
   "source": [
    "cluster = coiled.Cluster(name='notebook-83044506')"
   ]
  },
  {
   "cell_type": "markdown",
   "id": "89e8dcaf-a5e5-4d69-9994-96ea8ced3048",
   "metadata": {},
   "source": [
    "in this case, you may need to scale the cluster to instantiate some workers:"
   ]
  },
  {
   "cell_type": "code",
   "execution_count": 13,
   "id": "644dd72a-d815-4bd2-ab5e-bb10f8083f78",
   "metadata": {},
   "outputs": [],
   "source": [
    "cluster.scale(8)"
   ]
  },
  {
   "cell_type": "markdown",
   "id": "7c8ad702-b8f2-467b-9a80-d4e1808e1602",
   "metadata": {},
   "source": [
    "You can also create another cluster from scratch:"
   ]
  },
  {
   "cell_type": "code",
   "execution_count": null,
   "id": "e7bef825-2521-44f9-b82e-56fc52d55d9f",
   "metadata": {},
   "outputs": [],
   "source": [
    "# cluster = coiled.Cluster(n_workers=4, \n",
    "#                          name='test-cheap', \n",
    "#                          worker_vm_types=['n1-standard-1'], \n",
    "#                          scheduler_options={\"idle_timeout\": \"1 hours\"},\n",
    "#                          shutdown_on_close=False,\n",
    "#                          use_best_zone=True, \n",
    "#                          spot_policy=\"spot_with_fallback\",\n",
    "#                          tags={\n",
    "#                                  \"ds2\": \"test\",\n",
    "#                          },\n",
    "#                         )\n",
    "# cluster"
   ]
  },
  {
   "cell_type": "markdown",
   "id": "1dcbb847-ba53-422d-ab3c-0efa81768522",
   "metadata": {},
   "source": [
    "# Computation\n",
    "\n",
    "In order to use the cluster ressources with dask, you need to get the client:"
   ]
  },
  {
   "cell_type": "code",
   "execution_count": 9,
   "id": "826be5d2-7547-4f3b-944a-fa24673a169c",
   "metadata": {},
   "outputs": [],
   "source": [
    "client = cluster.get_client()"
   ]
  },
  {
   "cell_type": "markdown",
   "id": "9e47166d-9672-44ca-b79f-b94b8c55009d",
   "metadata": {},
   "source": [
    "then you can do your parallel computation:"
   ]
  },
  {
   "cell_type": "code",
   "execution_count": 16,
   "id": "7c77d05f-7101-48b4-b1a6-4746ac1a74f0",
   "metadata": {},
   "outputs": [
    {
     "name": "stdout",
     "output_type": "stream",
     "text": [
      "CPU times: user 89.5 ms, sys: 3.42 ms, total: 92.9 ms\n",
      "Wall time: 2.39 s\n"
     ]
    }
   ],
   "source": [
    "%%time\n",
    "import dask.array as da\n",
    "x = da.random.normal(10, 0.1, size=(20000,20000), chunks= (1000,1000))\n",
    "y = x.mean(axis=0)[::100]\n",
    "y.compute();"
   ]
  }
 ],
 "metadata": {
  "kernelspec": {
   "display_name": "Python 3 (ipykernel)",
   "language": "python",
   "name": "python3"
  },
  "language_info": {
   "codemirror_mode": {
    "name": "ipython",
    "version": 3
   },
   "file_extension": ".py",
   "mimetype": "text/x-python",
   "name": "python",
   "nbconvert_exporter": "python",
   "pygments_lexer": "ipython3",
   "version": "3.9.18"
  }
 },
 "nbformat": 4,
 "nbformat_minor": 5
}
